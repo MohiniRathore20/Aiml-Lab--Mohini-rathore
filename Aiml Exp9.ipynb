{
  "cells": [
    {
      "cell_type": "markdown",
      "metadata": {
        "id": "view-in-github",
        "colab_type": "text"
      },
      "source": [
        "<a href=\"https://colab.research.google.com/github/MohiniRathore20/Aiml-Lab--Mohini-rathore/blob/main/Aiml%20Exp9.ipynb\" target=\"_parent\"><img src=\"https://colab.research.google.com/assets/colab-badge.svg\" alt=\"Open In Colab\"/></a>"
      ]
    },
    {
      "cell_type": "code",
      "source": [
        "# Step 1: Import Libraries and Dataset\n",
        "import pandas as pd\n",
        "import numpy as np\n",
        "from sklearn.datasets import make_classification\n",
        "from sklearn.model_selection import train_test_split\n",
        "from sklearn.linear_model import LogisticRegression\n",
        "from sklearn.metrics import classification_report, roc_auc_score\n",
        "from imblearn.over_sampling import RandomOverSampler, SMOTE\n",
        "from imblearn.under_sampling import RandomUnderSampler\n",
        "\n",
        "# Generate an imbalanced dataset\n",
        "X, y = make_classification(\n",
        "    n_samples=1000,\n",
        "    n_features=20,\n",
        "    n_informative=2,\n",
        "    n_redundant=10,\n",
        "    n_clusters_per_class=1,\n",
        "    weights=[0.9, 0.1],  # Imbalanced ratio\n",
        "    random_state=42\n",
        ")\n",
        "\n",
        "# Convert to DataFrame for exploration\n",
        "df = pd.DataFrame(X, columns=[f\"feature_{i}\" for i in range(X.shape[1])])\n",
        "df['target'] = y\n",
        "\n",
        "# Show class distribution\n",
        "print(\"Class Distribution (Before Balancing):\")\n",
        "print(df['target'].value_counts())\n",
        "\n",
        "# Split into training and testing sets\n",
        "X_train, X_test, y_train, y_test = train_test_split(X, y, test_size=0.3, random_state=42, stratify=y)\n",
        "\n",
        "# Step 2: Implement Balancing Techniques\n",
        "# Random Oversampling\n",
        "ros = RandomOverSampler(random_state=42)\n",
        "X_train_ros, y_train_ros = ros.fit_resample(X_train, y_train)\n",
        "\n",
        "# Random Undersampling\n",
        "rus = RandomUnderSampler(random_state=42)\n",
        "X_train_rus, y_train_rus = rus.fit_resample(X_train, y_train)\n",
        "\n",
        "# SMOTE\n",
        "smote = SMOTE(random_state=42)\n",
        "X_train_smote, y_train_smote = smote.fit_resample(X_train, y_train)\n",
        "\n",
        "# Step 3: Define a function to train and evaluate a model\n",
        "def train_and_evaluate(X_train, y_train, X_test, y_test, class_weight=None):\n",
        "    model = LogisticRegression(class_weight=class_weight, random_state=42)\n",
        "    model.fit(X_train, y_train)\n",
        "\n",
        "    y_pred = model.predict(X_test)\n",
        "    y_pred_proba = model.predict_proba(X_test)[:, 1]\n",
        "\n",
        "    report = classification_report(y_test, y_pred, output_dict=True)\n",
        "    auc_roc = roc_auc_score(y_test, y_pred_proba)\n",
        "\n",
        "    return {\n",
        "        \"Precision\": report[\"1\"][\"precision\"],\n",
        "        \"Recall\": report[\"1\"][\"recall\"],\n",
        "        \"F1-Score\": report[\"1\"][\"f1-score\"],\n",
        "        \"AUC-ROC\": auc_roc\n",
        "    }\n",
        "\n",
        "# Step 4: Evaluate the model on different datasets\n",
        "results = {}\n",
        "\n",
        "# Imbalanced Dataset\n",
        "results[\"Imbalanced\"] = train_and_evaluate(X_train, y_train, X_test, y_test)\n",
        "\n",
        "# Random Oversampling\n",
        "results[\"Random Oversampling\"] = train_and_evaluate(X_train_ros, y_train_ros, X_test, y_test)\n",
        "\n",
        "# Random Undersampling\n",
        "results[\"Random Undersampling\"] = train_and_evaluate(X_train_rus, y_train_rus, X_test, y_test)\n",
        "\n",
        "# SMOTE\n",
        "results[\"SMOTE\"] = train_and_evaluate(X_train_smote, y_train_smote, X_test, y_test)\n",
        "\n",
        "# Class Weighting\n",
        "results[\"Class Weighting\"] = train_and_evaluate(X_train, y_train, X_test, y_test, class_weight=\"balanced\")\n",
        "\n",
        "# Step 5: Summarize the results\n",
        "results_df = pd.DataFrame(results).T\n",
        "print(\"\\nPerformance Metrics:\")\n",
        "print(results_df)\n"
      ],
      "metadata": {
        "id": "q7NFmkXRY_vu",
        "outputId": "2e2c20fa-9f82-45fc-c689-930a9264c3bf",
        "colab": {
          "base_uri": "https://localhost:8080/"
        }
      },
      "execution_count": 9,
      "outputs": [
        {
          "output_type": "stream",
          "name": "stdout",
          "text": [
            "Class Distribution (Before Balancing):\n",
            "target\n",
            "0    894\n",
            "1    106\n",
            "Name: count, dtype: int64\n",
            "\n",
            "Performance Metrics:\n",
            "                      Precision   Recall  F1-Score   AUC-ROC\n",
            "Imbalanced             1.000000  0.71875  0.836364  0.973414\n",
            "Random Oversampling    0.658537  0.84375  0.739726  0.962687\n",
            "Random Undersampling   0.491525  0.90625  0.637363  0.970149\n",
            "SMOTE                  0.650000  0.81250  0.722222  0.966884\n",
            "Class Weighting        0.658537  0.84375  0.739726  0.965135\n"
          ]
        }
      ]
    }
  ],
  "metadata": {
    "colab": {
      "name": "Welcome To Colab",
      "toc_visible": true,
      "provenance": [],
      "include_colab_link": true
    },
    "kernelspec": {
      "display_name": "Python 3",
      "name": "python3"
    }
  },
  "nbformat": 4,
  "nbformat_minor": 0
}