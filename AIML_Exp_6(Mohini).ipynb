{
  "nbformat": 4,
  "nbformat_minor": 0,
  "metadata": {
    "colab": {
      "provenance": []
    },
    "kernelspec": {
      "name": "python3",
      "display_name": "Python 3"
    },
    "language_info": {
      "name": "python"
    }
  },
  "cells": [
    {
      "cell_type": "code",
      "execution_count": 2,
      "metadata": {
        "id": "tIxuqVC5rhj3"
      },
      "outputs": [],
      "source": [
        "import pandas as pd\n",
        "import numpy as np\n",
        "import matplotlib.pyplot as plt"
      ]
    },
    {
      "cell_type": "code",
      "source": [
        "from google.colab import files"
      ],
      "metadata": {
        "id": "Si6_Mi87ruJb"
      },
      "execution_count": 4,
      "outputs": []
    },
    {
      "cell_type": "code",
      "source": [
        "uploaded = files.upload()"
      ],
      "metadata": {
        "colab": {
          "base_uri": "https://localhost:8080/",
          "height": 73
        },
        "id": "JYVP2KcXsdiq",
        "outputId": "f86235fe-e6d2-4cbb-d0d5-2a21736304a5"
      },
      "execution_count": 5,
      "outputs": [
        {
          "output_type": "display_data",
          "data": {
            "text/plain": [
              "<IPython.core.display.HTML object>"
            ],
            "text/html": [
              "\n",
              "     <input type=\"file\" id=\"files-d1e2c795-e793-4d1a-be20-288feea4304f\" name=\"files[]\" multiple disabled\n",
              "        style=\"border:none\" />\n",
              "     <output id=\"result-d1e2c795-e793-4d1a-be20-288feea4304f\">\n",
              "      Upload widget is only available when the cell has been executed in the\n",
              "      current browser session. Please rerun this cell to enable.\n",
              "      </output>\n",
              "      <script>// Copyright 2017 Google LLC\n",
              "//\n",
              "// Licensed under the Apache License, Version 2.0 (the \"License\");\n",
              "// you may not use this file except in compliance with the License.\n",
              "// You may obtain a copy of the License at\n",
              "//\n",
              "//      http://www.apache.org/licenses/LICENSE-2.0\n",
              "//\n",
              "// Unless required by applicable law or agreed to in writing, software\n",
              "// distributed under the License is distributed on an \"AS IS\" BASIS,\n",
              "// WITHOUT WARRANTIES OR CONDITIONS OF ANY KIND, either express or implied.\n",
              "// See the License for the specific language governing permissions and\n",
              "// limitations under the License.\n",
              "\n",
              "/**\n",
              " * @fileoverview Helpers for google.colab Python module.\n",
              " */\n",
              "(function(scope) {\n",
              "function span(text, styleAttributes = {}) {\n",
              "  const element = document.createElement('span');\n",
              "  element.textContent = text;\n",
              "  for (const key of Object.keys(styleAttributes)) {\n",
              "    element.style[key] = styleAttributes[key];\n",
              "  }\n",
              "  return element;\n",
              "}\n",
              "\n",
              "// Max number of bytes which will be uploaded at a time.\n",
              "const MAX_PAYLOAD_SIZE = 100 * 1024;\n",
              "\n",
              "function _uploadFiles(inputId, outputId) {\n",
              "  const steps = uploadFilesStep(inputId, outputId);\n",
              "  const outputElement = document.getElementById(outputId);\n",
              "  // Cache steps on the outputElement to make it available for the next call\n",
              "  // to uploadFilesContinue from Python.\n",
              "  outputElement.steps = steps;\n",
              "\n",
              "  return _uploadFilesContinue(outputId);\n",
              "}\n",
              "\n",
              "// This is roughly an async generator (not supported in the browser yet),\n",
              "// where there are multiple asynchronous steps and the Python side is going\n",
              "// to poll for completion of each step.\n",
              "// This uses a Promise to block the python side on completion of each step,\n",
              "// then passes the result of the previous step as the input to the next step.\n",
              "function _uploadFilesContinue(outputId) {\n",
              "  const outputElement = document.getElementById(outputId);\n",
              "  const steps = outputElement.steps;\n",
              "\n",
              "  const next = steps.next(outputElement.lastPromiseValue);\n",
              "  return Promise.resolve(next.value.promise).then((value) => {\n",
              "    // Cache the last promise value to make it available to the next\n",
              "    // step of the generator.\n",
              "    outputElement.lastPromiseValue = value;\n",
              "    return next.value.response;\n",
              "  });\n",
              "}\n",
              "\n",
              "/**\n",
              " * Generator function which is called between each async step of the upload\n",
              " * process.\n",
              " * @param {string} inputId Element ID of the input file picker element.\n",
              " * @param {string} outputId Element ID of the output display.\n",
              " * @return {!Iterable<!Object>} Iterable of next steps.\n",
              " */\n",
              "function* uploadFilesStep(inputId, outputId) {\n",
              "  const inputElement = document.getElementById(inputId);\n",
              "  inputElement.disabled = false;\n",
              "\n",
              "  const outputElement = document.getElementById(outputId);\n",
              "  outputElement.innerHTML = '';\n",
              "\n",
              "  const pickedPromise = new Promise((resolve) => {\n",
              "    inputElement.addEventListener('change', (e) => {\n",
              "      resolve(e.target.files);\n",
              "    });\n",
              "  });\n",
              "\n",
              "  const cancel = document.createElement('button');\n",
              "  inputElement.parentElement.appendChild(cancel);\n",
              "  cancel.textContent = 'Cancel upload';\n",
              "  const cancelPromise = new Promise((resolve) => {\n",
              "    cancel.onclick = () => {\n",
              "      resolve(null);\n",
              "    };\n",
              "  });\n",
              "\n",
              "  // Wait for the user to pick the files.\n",
              "  const files = yield {\n",
              "    promise: Promise.race([pickedPromise, cancelPromise]),\n",
              "    response: {\n",
              "      action: 'starting',\n",
              "    }\n",
              "  };\n",
              "\n",
              "  cancel.remove();\n",
              "\n",
              "  // Disable the input element since further picks are not allowed.\n",
              "  inputElement.disabled = true;\n",
              "\n",
              "  if (!files) {\n",
              "    return {\n",
              "      response: {\n",
              "        action: 'complete',\n",
              "      }\n",
              "    };\n",
              "  }\n",
              "\n",
              "  for (const file of files) {\n",
              "    const li = document.createElement('li');\n",
              "    li.append(span(file.name, {fontWeight: 'bold'}));\n",
              "    li.append(span(\n",
              "        `(${file.type || 'n/a'}) - ${file.size} bytes, ` +\n",
              "        `last modified: ${\n",
              "            file.lastModifiedDate ? file.lastModifiedDate.toLocaleDateString() :\n",
              "                                    'n/a'} - `));\n",
              "    const percent = span('0% done');\n",
              "    li.appendChild(percent);\n",
              "\n",
              "    outputElement.appendChild(li);\n",
              "\n",
              "    const fileDataPromise = new Promise((resolve) => {\n",
              "      const reader = new FileReader();\n",
              "      reader.onload = (e) => {\n",
              "        resolve(e.target.result);\n",
              "      };\n",
              "      reader.readAsArrayBuffer(file);\n",
              "    });\n",
              "    // Wait for the data to be ready.\n",
              "    let fileData = yield {\n",
              "      promise: fileDataPromise,\n",
              "      response: {\n",
              "        action: 'continue',\n",
              "      }\n",
              "    };\n",
              "\n",
              "    // Use a chunked sending to avoid message size limits. See b/62115660.\n",
              "    let position = 0;\n",
              "    do {\n",
              "      const length = Math.min(fileData.byteLength - position, MAX_PAYLOAD_SIZE);\n",
              "      const chunk = new Uint8Array(fileData, position, length);\n",
              "      position += length;\n",
              "\n",
              "      const base64 = btoa(String.fromCharCode.apply(null, chunk));\n",
              "      yield {\n",
              "        response: {\n",
              "          action: 'append',\n",
              "          file: file.name,\n",
              "          data: base64,\n",
              "        },\n",
              "      };\n",
              "\n",
              "      let percentDone = fileData.byteLength === 0 ?\n",
              "          100 :\n",
              "          Math.round((position / fileData.byteLength) * 100);\n",
              "      percent.textContent = `${percentDone}% done`;\n",
              "\n",
              "    } while (position < fileData.byteLength);\n",
              "  }\n",
              "\n",
              "  // All done.\n",
              "  yield {\n",
              "    response: {\n",
              "      action: 'complete',\n",
              "    }\n",
              "  };\n",
              "}\n",
              "\n",
              "scope.google = scope.google || {};\n",
              "scope.google.colab = scope.google.colab || {};\n",
              "scope.google.colab._files = {\n",
              "  _uploadFiles,\n",
              "  _uploadFilesContinue,\n",
              "};\n",
              "})(self);\n",
              "</script> "
            ]
          },
          "metadata": {}
        },
        {
          "output_type": "stream",
          "name": "stdout",
          "text": [
            "Saving student-dataset (1).csv to student-dataset (1).csv\n"
          ]
        }
      ]
    },
    {
      "cell_type": "code",
      "source": [
        "import io"
      ],
      "metadata": {
        "id": "kZH65Mb1snV9"
      },
      "execution_count": 6,
      "outputs": []
    },
    {
      "cell_type": "code",
      "source": [
        "df = pd.read_csv(io.BytesIO(uploaded['student-dataset (1).csv']), delimiter=',', on_bad_lines='skip')\n",
        "# This will skip any lines that cause parsing errors."
      ],
      "metadata": {
        "id": "2JQZVHsdsqK2"
      },
      "execution_count": 7,
      "outputs": []
    },
    {
      "cell_type": "code",
      "source": [
        "# Handling Missing Values\n",
        "\n",
        "# Option 1: Remove rows with missing values\n",
        "df_cleaned = df.dropna()"
      ],
      "metadata": {
        "id": "IU3AqM7ps0t2"
      },
      "execution_count": 8,
      "outputs": []
    },
    {
      "cell_type": "code",
      "source": [
        "# Option 2: Fill missing values with the mean (for numerical columns)\n",
        "df_filled = df.fillna(df.select_dtypes(include=np.number).mean()) # Select only numeric columns for calculating the mean"
      ],
      "metadata": {
        "id": "_jG6hLMrs2Z5"
      },
      "execution_count": 9,
      "outputs": []
    },
    {
      "cell_type": "code",
      "source": [
        "# Option 3: Fill missing values with the median (for numerical columns)\n",
        "df_filled_median = df.fillna(df.select_dtypes(include=np.number).median()) # Select numeric columns for median calculation"
      ],
      "metadata": {
        "id": "MtiqLlH8s5Wd"
      },
      "execution_count": 10,
      "outputs": []
    },
    {
      "cell_type": "code",
      "source": [
        "# Option 4: Fill missing values with the mode (for categorical columns)\n",
        "df_filled_mode = df.apply(lambda x: x.fillna(x.mode()[0]) if x.dtype == 'O' else x)"
      ],
      "metadata": {
        "id": "UOAAH1Ezs9Mi"
      },
      "execution_count": 11,
      "outputs": []
    },
    {
      "cell_type": "code",
      "source": [
        "# Handling Outliers\n",
        "\n",
        "# Using the Interquartile Range (IQR) method\n",
        "Q1 = df.select_dtypes(include=np.number).quantile(0.25) # Select numeric columns for quantile calculations\n",
        "Q3 = df.select_dtypes(include=np.number).quantile(0.75) # Select numeric columns for quantile calculations\n",
        "IQR = Q3 - Q1"
      ],
      "metadata": {
        "id": "zq7v9K1stAWc"
      },
      "execution_count": 12,
      "outputs": []
    },
    {
      "cell_type": "code",
      "source": [
        "# Define outlier bounds\n",
        "lower_bound = Q1 - 1.5 * IQR\n",
        "upper_bound = Q3 + 1.5 * IQR"
      ],
      "metadata": {
        "id": "yNh11Z-6tDjE"
      },
      "execution_count": 13,
      "outputs": []
    },
    {
      "cell_type": "code",
      "source": [
        "# Identify outliers\n",
        "outliers = ((df.select_dtypes(include=np.number) < lower_bound) | (df.select_dtypes(include=np.number) > upper_bound))"
      ],
      "metadata": {
        "id": "kenDQOePtGtp"
      },
      "execution_count": 14,
      "outputs": []
    },
    {
      "cell_type": "code",
      "source": [
        "# Option 1: Remove outliers\n",
        "df_no_outliers = df[~((df.select_dtypes(include=np.number) < lower_bound) | (df.select_dtypes(include=np.number) > upper_bound)).any(axis=1)]"
      ],
      "metadata": {
        "id": "ZSv9LsgRtKp1"
      },
      "execution_count": 15,
      "outputs": []
    },
    {
      "cell_type": "code",
      "source": [
        "# Option 2: Cap outliers to the lower and upper bounds\n",
        "df_capped = df.copy()\n",
        "numeric_df = df.select_dtypes(include=np.number) # Select numeric columns for comparison\n",
        "\n",
        "for col in numeric_df.columns:\n",
        "    df_capped.loc[numeric_df[col] < lower_bound[col], col] = lower_bound[col]\n",
        "    df_capped.loc[numeric_df[col] > upper_bound[col], col] = upper_bound[col]"
      ],
      "metadata": {
        "colab": {
          "base_uri": "https://localhost:8080/"
        },
        "id": "qO_8w6UxtN3r",
        "outputId": "4fbf0e5c-7c23-4c3c-97d6-6dcebbcab19d"
      },
      "execution_count": 16,
      "outputs": [
        {
          "output_type": "stream",
          "name": "stderr",
          "text": [
            "<ipython-input-16-a5d1c4883c65>:6: FutureWarning: Setting an item of incompatible dtype is deprecated and will raise in a future error of pandas. Value '1.25' has dtype incompatible with int64, please explicitly cast to a compatible dtype first.\n",
            "  df_capped.loc[numeric_df[col] < lower_bound[col], col] = lower_bound[col]\n",
            "<ipython-input-16-a5d1c4883c65>:6: FutureWarning: Setting an item of incompatible dtype is deprecated and will raise in a future error of pandas. Value '2.5' has dtype incompatible with int64, please explicitly cast to a compatible dtype first.\n",
            "  df_capped.loc[numeric_df[col] < lower_bound[col], col] = lower_bound[col]\n"
          ]
        }
      ]
    },
    {
      "cell_type": "code",
      "source": [
        "# Option 3: Impute outliers with mean/median\n",
        "df_imputed_outliers = df.copy()\n",
        "df_imputed_outliers[outliers] = np.nan\n",
        "\n",
        "# Calculate the mean only for numeric columns\n",
        "numeric_df = df.select_dtypes(include=np.number)\n",
        "df_imputed_outliers = df_imputed_outliers.fillna(numeric_df.mean())"
      ],
      "metadata": {
        "id": "pnYqSwCktRlv"
      },
      "execution_count": 17,
      "outputs": []
    },
    {
      "cell_type": "code",
      "source": [
        "print(\"Original DataFrame:\\n\", df)\n",
        "print(\"DataFrame after handling missing values and outliers:\\n\", df_imputed_outliers)"
      ],
      "metadata": {
        "colab": {
          "base_uri": "https://localhost:8080/"
        },
        "id": "4ZMKlGprtVBk",
        "outputId": "a0028a1a-7662-4bc4-f6a4-434cae14aa36"
      },
      "execution_count": 18,
      "outputs": [
        {
          "output_type": "stream",
          "name": "stdout",
          "text": [
            "Original DataFrame:\n",
            "       id               name               nationality                 city  \\\n",
            "0      0          Kiana Lor                     China               Suzhou   \n",
            "1      1     Joshua Lonaker  United States of America        Santa Clarita   \n",
            "2      2      Dakota Blanco  United States of America              Oakland   \n",
            "3      3    Natasha Yarusso  United States of America        Castro Valley   \n",
            "4      4     Brooke Cazares                    Brazil  São José dos Campos   \n",
            "..   ...                ...                       ...                  ...   \n",
            "302  302        Austin Haas  United States of America             Columbus   \n",
            "303  303    Madison Fithian  United States of America          Los Angeles   \n",
            "304  304  Zachary Mulvahill  United States of America          Los Angeles   \n",
            "305  305   Eliana Michelsen  United States of America              Oakland   \n",
            "306  306    Dane Whittemore                    Canada              Toronto   \n",
            "\n",
            "     latitude  longitude gender  ethnic.group  age  english.grade  math.grade  \\\n",
            "0       31.31     120.62      F           NaN   22            3.5         3.7   \n",
            "1       34.39    -118.54      M           NaN   22            2.9         3.2   \n",
            "2       37.80    -122.27      F           NaN   22            3.9         3.8   \n",
            "3       37.69    -122.09      F           NaN   20            3.3         2.8   \n",
            "4      -23.18     -45.88      F           NaN   21            3.7         2.6   \n",
            "..        ...        ...    ...           ...  ...            ...         ...   \n",
            "302     39.96     -83.00      M           NaN   20            3.6         3.7   \n",
            "303     34.05    -118.24      F           NaN   20            3.6         3.9   \n",
            "304     34.05    -118.24      M           NaN   20            3.2         3.4   \n",
            "305     37.80    -122.27      F           NaN   23            3.0         2.8   \n",
            "306     43.67     -79.42      M           NaN   21            3.8         3.2   \n",
            "\n",
            "     sciences.grade  language.grade  portfolio.rating  coverletter.rating  \\\n",
            "0               3.1             1.0                 4                 4.0   \n",
            "1               3.6             5.0                 5                 4.0   \n",
            "2               3.2             5.0                 3                 3.0   \n",
            "3               3.2             5.0                 5                 2.0   \n",
            "4               3.4             1.0                 4                 4.0   \n",
            "..              ...             ...               ...                 ...   \n",
            "302             3.1             5.0                 4                 5.0   \n",
            "303             4.0             5.0                 5                 5.0   \n",
            "304             3.9             5.0                 5                 5.0   \n",
            "305             2.9             5.0                 4                 4.0   \n",
            "306             4.0             5.0                 5                 4.0   \n",
            "\n",
            "     refletter.rating  \n",
            "0                   4  \n",
            "1                   5  \n",
            "2                   4  \n",
            "3                   4  \n",
            "4                   5  \n",
            "..                ...  \n",
            "302                 5  \n",
            "303                 3  \n",
            "304                 3  \n",
            "305                 5  \n",
            "306                 5  \n",
            "\n",
            "[307 rows x 16 columns]\n",
            "DataFrame after handling missing values and outliers:\n",
            "       id               name               nationality                 city  \\\n",
            "0      0          Kiana Lor                     China               Suzhou   \n",
            "1      1     Joshua Lonaker  United States of America        Santa Clarita   \n",
            "2      2      Dakota Blanco  United States of America              Oakland   \n",
            "3      3    Natasha Yarusso  United States of America        Castro Valley   \n",
            "4      4     Brooke Cazares                    Brazil  São José dos Campos   \n",
            "..   ...                ...                       ...                  ...   \n",
            "302  302        Austin Haas  United States of America             Columbus   \n",
            "303  303    Madison Fithian  United States of America          Los Angeles   \n",
            "304  304  Zachary Mulvahill  United States of America          Los Angeles   \n",
            "305  305   Eliana Michelsen  United States of America              Oakland   \n",
            "306  306    Dane Whittemore                    Canada              Toronto   \n",
            "\n",
            "      latitude   longitude gender  ethnic.group  age  english.grade  \\\n",
            "0    31.310000  -64.539121      F           NaN   22            3.5   \n",
            "1    34.390000 -118.540000      M           NaN   22            2.9   \n",
            "2    37.800000 -122.270000      F           NaN   22            3.9   \n",
            "3    37.690000 -122.090000      F           NaN   20            3.3   \n",
            "4    32.863388  -45.880000      F           NaN   21            3.7   \n",
            "..         ...         ...    ...           ...  ...            ...   \n",
            "302  39.960000  -83.000000      M           NaN   20            3.6   \n",
            "303  34.050000 -118.240000      F           NaN   20            3.6   \n",
            "304  34.050000 -118.240000      M           NaN   20            3.2   \n",
            "305  37.800000 -122.270000      F           NaN   23            3.0   \n",
            "306  43.670000  -79.420000      M           NaN   21            3.8   \n",
            "\n",
            "     math.grade  sciences.grade  language.grade  portfolio.rating  \\\n",
            "0           3.7             3.1        4.396417               4.0   \n",
            "1           3.2             3.6        5.000000               5.0   \n",
            "2           3.8             3.2        5.000000               3.0   \n",
            "3           2.8             3.2        5.000000               5.0   \n",
            "4           2.6             3.4        4.396417               4.0   \n",
            "..          ...             ...             ...               ...   \n",
            "302         3.7             3.1        5.000000               4.0   \n",
            "303         3.9             4.0        5.000000               5.0   \n",
            "304         3.4             3.9        5.000000               5.0   \n",
            "305         2.8             2.9        5.000000               4.0   \n",
            "306         3.2             4.0        5.000000               5.0   \n",
            "\n",
            "     coverletter.rating  refletter.rating  \n",
            "0              4.000000               4.0  \n",
            "1              4.000000               5.0  \n",
            "2              3.000000               4.0  \n",
            "3              4.110749               4.0  \n",
            "4              4.000000               5.0  \n",
            "..                  ...               ...  \n",
            "302            5.000000               5.0  \n",
            "303            5.000000               3.0  \n",
            "304            5.000000               3.0  \n",
            "305            4.000000               5.0  \n",
            "306            4.000000               5.0  \n",
            "\n",
            "[307 rows x 16 columns]\n"
          ]
        }
      ]
    }
  ]
}